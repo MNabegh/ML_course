{
 "cells": [
  {
   "cell_type": "code",
   "execution_count": 1,
   "metadata": {},
   "outputs": [],
   "source": [
    "%matplotlib inline\n",
    "import numpy as np\n",
    "import matplotlib.pyplot as plt\n",
    "import scipy\n",
    "import math\n",
    "%load_ext autoreload\n",
    "%autoreload 2"
   ]
  },
  {
   "cell_type": "markdown",
   "metadata": {},
   "source": [
    "Data Generation\n",
    "==="
   ]
  },
  {
   "cell_type": "code",
   "execution_count": 2,
   "metadata": {},
   "outputs": [
    {
     "name": "stdout",
     "output_type": "stream",
     "text": [
      "[[0.77132064 0.02075195]\n",
      " [0.63364823 0.74880388]\n",
      " [0.49850701 0.22479665]\n",
      " [0.19806286 0.76053071]] \n",
      "\n",
      " [[0.16911084 0.08833981]\n",
      " [0.68535982 0.95339335]\n",
      " [0.00394827 0.51219226]\n",
      " [0.81262096 0.61252607]\n",
      " [0.72175532 0.29187607]]\n"
     ]
    }
   ],
   "source": [
    "np.random.seed(10)\n",
    "p, q = (np.random.rand(i, 2) for i in (4, 5))\n",
    "p_big, q_big = (np.random.rand(i, 80) for i in (100, 120))\n",
    "\n",
    "print(p, \"\\n\\n\", q)"
   ]
  },
  {
   "cell_type": "markdown",
   "metadata": {},
   "source": [
    "Solution\n",
    "==="
   ]
  },
  {
   "cell_type": "code",
   "execution_count": 3,
   "metadata": {},
   "outputs": [],
   "source": [
    "k = np.empty((np.shape(p)[0], np.shape(q)[0]))"
   ]
  },
  {
   "cell_type": "code",
   "execution_count": 4,
   "metadata": {},
   "outputs": [
    {
     "data": {
      "text/plain": [
       "range(0, 4)"
      ]
     },
     "execution_count": 4,
     "metadata": {},
     "output_type": "execute_result"
    }
   ],
   "source": [
    "range(np.shape(p)[0])"
   ]
  },
  {
   "cell_type": "code",
   "execution_count": 5,
   "metadata": {},
   "outputs": [
    {
     "name": "stdout",
     "output_type": "stream",
     "text": [
      "0\n",
      "1\n",
      "2\n",
      "3\n",
      "4\n"
     ]
    }
   ],
   "source": [
    "for j in range((np.shape(q)[0])):\n",
    "    print(j)"
   ]
  },
  {
   "cell_type": "code",
   "execution_count": 29,
   "metadata": {},
   "outputs": [],
   "source": [
    "def naive(p, q):\n",
    "    k = np.empty((p.shape[0], q.shape[0]))\n",
    "    for i in range(4):\n",
    "        for j in range(5):\n",
    "            k[i, j] = math.sqrt(((p[i, 1] - q[j, 1]) ** 2) + ((p[i, 0] - q[j, 0]) ** 2))\n",
    "    \n",
    "    return k\n",
    "            "
   ]
  },
  {
   "cell_type": "markdown",
   "metadata": {},
   "source": [
    "### Use matching indices\n",
    "\n",
    "Instead of iterating through indices, one can use them directly to parallelize the operations with Numpy."
   ]
  },
  {
   "cell_type": "code",
   "execution_count": 7,
   "metadata": {},
   "outputs": [
    {
     "name": "stdout",
     "output_type": "stream",
     "text": [
      "[[0 0 0 0 0]\n",
      " [1 1 1 1 1]\n",
      " [2 2 2 2 2]\n",
      " [3 3 3 3 3]]\n",
      "\n",
      "[[0 1 2 3 4]\n",
      " [0 1 2 3 4]\n",
      " [0 1 2 3 4]\n",
      " [0 1 2 3 4]]\n"
     ]
    }
   ],
   "source": [
    "rows, cols = np.indices((p.shape[0], q.shape[0]))\n",
    "print(rows, end='\\n\\n')\n",
    "print(cols)"
   ]
  },
  {
   "cell_type": "code",
   "execution_count": 8,
   "metadata": {},
   "outputs": [
    {
     "name": "stdout",
     "output_type": "stream",
     "text": [
      "[[0.77132064 0.02075195]\n",
      " [0.77132064 0.02075195]\n",
      " [0.77132064 0.02075195]\n",
      " [0.77132064 0.02075195]\n",
      " [0.77132064 0.02075195]\n",
      " [0.63364823 0.74880388]\n",
      " [0.63364823 0.74880388]\n",
      " [0.63364823 0.74880388]\n",
      " [0.63364823 0.74880388]\n",
      " [0.63364823 0.74880388]\n",
      " [0.49850701 0.22479665]\n",
      " [0.49850701 0.22479665]\n",
      " [0.49850701 0.22479665]\n",
      " [0.49850701 0.22479665]\n",
      " [0.49850701 0.22479665]\n",
      " [0.19806286 0.76053071]\n",
      " [0.19806286 0.76053071]\n",
      " [0.19806286 0.76053071]\n",
      " [0.19806286 0.76053071]\n",
      " [0.19806286 0.76053071]]\n",
      "\n",
      "[[0.16911084 0.08833981]\n",
      " [0.68535982 0.95339335]\n",
      " [0.00394827 0.51219226]\n",
      " [0.81262096 0.61252607]\n",
      " [0.72175532 0.29187607]\n",
      " [0.16911084 0.08833981]\n",
      " [0.68535982 0.95339335]\n",
      " [0.00394827 0.51219226]\n",
      " [0.81262096 0.61252607]\n",
      " [0.72175532 0.29187607]\n",
      " [0.16911084 0.08833981]\n",
      " [0.68535982 0.95339335]\n",
      " [0.00394827 0.51219226]\n",
      " [0.81262096 0.61252607]\n",
      " [0.72175532 0.29187607]\n",
      " [0.16911084 0.08833981]\n",
      " [0.68535982 0.95339335]\n",
      " [0.00394827 0.51219226]\n",
      " [0.81262096 0.61252607]\n",
      " [0.72175532 0.29187607]]\n"
     ]
    }
   ],
   "source": [
    "print(p[rows.ravel()], end='\\n\\n')\n",
    "print(q[cols.ravel()])"
   ]
  },
  {
   "cell_type": "code",
   "execution_count": 9,
   "metadata": {},
   "outputs": [
    {
     "data": {
      "text/plain": [
       "array([[0.77132064, 0.02075195],\n",
       "       [0.63364823, 0.74880388],\n",
       "       [0.49850701, 0.22479665],\n",
       "       [0.19806286, 0.76053071]])"
      ]
     },
     "execution_count": 9,
     "metadata": {},
     "output_type": "execute_result"
    }
   ],
   "source": [
    "p"
   ]
  },
  {
   "cell_type": "code",
   "execution_count": 10,
   "metadata": {},
   "outputs": [
    {
     "data": {
      "text/plain": [
       "array([[0.16911084, 0.08833981],\n",
       "       [0.68535982, 0.95339335],\n",
       "       [0.00394827, 0.51219226],\n",
       "       [0.81262096, 0.61252607],\n",
       "       [0.72175532, 0.29187607]])"
      ]
     },
     "execution_count": 10,
     "metadata": {},
     "output_type": "execute_result"
    }
   ],
   "source": [
    "q"
   ]
  },
  {
   "cell_type": "code",
   "execution_count": 11,
   "metadata": {},
   "outputs": [
    {
     "data": {
      "text/plain": [
       "array([[-0.06758786, -0.9326414 , -0.49144031, -0.59177412, -0.27112412],\n",
       "       [ 0.66046407, -0.20458946,  0.23661162,  0.13627782,  0.45692781],\n",
       "       [ 0.13645683, -0.7285967 , -0.28739562, -0.38772942, -0.06707942],\n",
       "       [ 0.6721909 , -0.19286263,  0.24833845,  0.14800465,  0.46865464]])"
      ]
     },
     "execution_count": 11,
     "metadata": {},
     "output_type": "execute_result"
    }
   ],
   "source": [
    "p[rows, 1] - q[cols, 1]"
   ]
  },
  {
   "cell_type": "code",
   "execution_count": 12,
   "metadata": {},
   "outputs": [
    {
     "data": {
      "text/plain": [
       "array([[0.00456812, 0.86981998, 0.24151358, 0.35019661, 0.07350829],\n",
       "       [0.43621279, 0.04185685, 0.05598506, 0.01857164, 0.20878303],\n",
       "       [0.01862047, 0.53085315, 0.08259624, 0.1503341 , 0.00449965],\n",
       "       [0.4518406 , 0.037196  , 0.06167199, 0.02190538, 0.21963718]])"
      ]
     },
     "execution_count": 12,
     "metadata": {},
     "output_type": "execute_result"
    }
   ],
   "source": [
    "np.power((p[rows, 1] - q[cols, 1]), 2)"
   ]
  },
  {
   "cell_type": "code",
   "execution_count": 13,
   "metadata": {},
   "outputs": [],
   "source": [
    "def with_indices(p, q):\n",
    "    return np.power(np.power((p[rows, 1] - q[cols, 1]), 2) + np.power((p[rows, 0] - q[cols, 0]), 2), 0.5)\n",
    "    "
   ]
  },
  {
   "cell_type": "markdown",
   "metadata": {},
   "source": [
    "### Use a library\n",
    "\n",
    "`scipy` is the equivalent of matlab toolboxes and have a lot to offer. Actually the pairwise computation is part of the library through the `spatial` module."
   ]
  },
  {
   "cell_type": "code",
   "execution_count": 14,
   "metadata": {},
   "outputs": [],
   "source": [
    "from scipy.spatial.distance import cdist\n",
    "\n",
    "def scipy_version(p, q):\n",
    "    return cdist(p, q)"
   ]
  },
  {
   "cell_type": "markdown",
   "metadata": {},
   "source": [
    "### Numpy Magic"
   ]
  },
  {
   "cell_type": "code",
   "execution_count": 15,
   "metadata": {},
   "outputs": [],
   "source": [
    "def tensor_broadcasting(p, q):\n",
    "    return np.sqrt(np.sum((p[:,np.newaxis,:]-q[np.newaxis,:,:])**2, axis=2))"
   ]
  },
  {
   "cell_type": "markdown",
   "metadata": {},
   "source": [
    "# Compare methods"
   ]
  },
  {
   "cell_type": "code",
   "execution_count": 31,
   "metadata": {},
   "outputs": [
    {
     "name": "stdout",
     "output_type": "stream",
     "text": [
      "43 µs ± 1.4 µs per loop (mean ± std. dev. of 7 runs, 10000 loops each)\n",
      "25.1 µs ± 406 ns per loop (mean ± std. dev. of 7 runs, 10000 loops each)\n",
      "529 µs ± 7.54 µs per loop (mean ± std. dev. of 7 runs, 1000 loops each)\n",
      "3.17 ms ± 33.4 µs per loop (mean ± std. dev. of 7 runs, 100 loops each)\n"
     ]
    }
   ],
   "source": [
    "methods = [naive, with_indices, scipy_version, tensor_broadcasting]\n",
    "timers = []\n",
    "for f in methods:\n",
    "    r = %timeit -o f(p_big, q_big)\n",
    "    timers.append(r)"
   ]
  },
  {
   "cell_type": "code",
   "execution_count": 32,
   "metadata": {},
   "outputs": [
    {
     "data": {
      "image/png": "[encoded data removed]",
      "text/plain": [
       "<Figure size 720x432 with 1 Axes>"
      ]
     },
     "metadata": {
      "needs_background": "light"
     },
     "output_type": "display_data"
    }
   ],
   "source": [
    "plt.figure(figsize=(10,6))\n",
    "plt.bar(np.arange(len(methods)), [r.best*1000 for r in timers], log=False)  # Set log to True for logarithmic scale\n",
    "plt.xticks(np.arange(len(methods))+0.2, [f.__name__ for f in methods], rotation=30)\n",
    "plt.xlabel('Method')\n",
    "plt.ylabel('Time (ms)')\n",
    "plt.show()"
   ]
  },
  {
   "cell_type": "code",
   "execution_count": 30,
   "metadata": {},
   "outputs": [
    {
     "name": "stdout",
     "output_type": "stream",
     "text": [
      "[[0.60599073 0.93659449 0.91124856 0.59321356 0.27561751]\n",
      " [0.80746999 0.21102354 0.67268649 0.22495084 0.46534491]\n",
      " [0.35654215 0.75217493 0.57200052 0.49900068 0.23310825]\n",
      " [0.67281411 0.52407472 0.31520226 0.63212897 0.70277376]]\n"
     ]
    }
   ],
   "source": [
    "print(naive(p, q))"
   ]
  },
  {
   "cell_type": "code",
   "execution_count": 22,
   "metadata": {},
   "outputs": [
    {
     "name": "stdout",
     "output_type": "stream",
     "text": [
      "[[0.60599073 0.93659449 0.91124856 0.59321356 0.27561751]\n",
      " [0.80746999 0.21102354 0.67268649 0.22495084 0.46534491]\n",
      " [0.35654215 0.75217493 0.57200052 0.49900068 0.23310825]\n",
      " [0.67281411 0.52407472 0.31520226 0.63212897 0.70277376]]\n"
     ]
    }
   ],
   "source": [
    "print(with_indices(p, q))"
   ]
  },
  {
   "cell_type": "code",
   "execution_count": 23,
   "metadata": {},
   "outputs": [
    {
     "data": {
      "text/plain": [
       "array([[0.60599073, 0.93659449, 0.91124856, 0.59321356, 0.27561751],\n",
       "       [0.80746999, 0.21102354, 0.67268649, 0.22495084, 0.46534491],\n",
       "       [0.35654215, 0.75217493, 0.57200052, 0.49900068, 0.23310825],\n",
       "       [0.67281411, 0.52407472, 0.31520226, 0.63212897, 0.70277376]])"
      ]
     },
     "execution_count": 23,
     "metadata": {},
     "output_type": "execute_result"
    }
   ],
   "source": [
    "scipy_version(p, q)"
   ]
  },
  {
   "cell_type": "code",
   "execution_count": 24,
   "metadata": {},
   "outputs": [
    {
     "name": "stdout",
     "output_type": "stream",
     "text": [
      "[[0.60599073 0.93659449 0.91124856 0.59321356 0.27561751]\n",
      " [0.80746999 0.21102354 0.67268649 0.22495084 0.46534491]\n",
      " [0.35654215 0.75217493 0.57200052 0.49900068 0.23310825]\n",
      " [0.67281411 0.52407472 0.31520226 0.63212897 0.70277376]]\n"
     ]
    }
   ],
   "source": [
    "print(tensor_broadcasting(p, q))"
   ]
  },
  {
   "cell_type": "code",
   "execution_count": null,
   "metadata": {},
   "outputs": [],
   "source": []
  }
 ],
 "metadata": {
  "kernelspec": {
   "display_name": "Python 3",
   "language": "python",
   "name": "python3"
  },
  "language_info": {
   "codemirror_mode": {
    "name": "ipython",
    "version": 3
   },
   "file_extension": ".py",
   "mimetype": "text/x-python",
   "name": "python",
   "nbconvert_exporter": "python",
   "pygments_lexer": "ipython3",
   "version": "3.7.4"
  }
 },
 "nbformat": 4,
 "nbformat_minor": 4
}
